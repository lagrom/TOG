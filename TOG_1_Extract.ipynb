{
 "cells": [
  {
   "cell_type": "code",
   "execution_count": 1,
   "metadata": {},
   "outputs": [],
   "source": [
    "import matplotlib.pyplot as plt\n",
    "import statsmodels.api as sm\n",
    "from codecs import ignore_errors\n",
    "import pandas as pd\n",
    "import numpy as np\n",
    "import data as dt\n",
    "import sys\n",
    "import plotly.graph_objects as go\n",
    "import chart_studio.plotly as py\n",
    "from IPython.display import display\n",
    "import time"
   ]
  },
  {
   "cell_type": "code",
   "execution_count": 2,
   "metadata": {},
   "outputs": [],
   "source": [
    "exchanges = ['binance']\n",
    "symbol = 'ETH/USDT'"
   ]
  },
  {
   "cell_type": "code",
   "execution_count": null,
   "metadata": {},
   "outputs": [],
   "source": [
    "orderbooks = dt.async_data(symbol=symbol, exchanges=exchanges, output_format='inplace', timestamp_format='timestamp',\n",
    "                           data_type='orderbooks', file_route='Files/OrderBooks', stop_criteria=None,\n",
    "                           elapsed_secs=120, verbose=2)\n",
    "\n",
    "orderbks = pd.DataFrame()\n",
    "y = pd.DataFrame()\n",
    "\n",
    "for key in orderbooks['binance']:\n",
    "    print(key)\n",
    "    # print(type(orderbooks['binance'][key]))\n",
    "    y = orderbooks['binance'][key]\n",
    "    y['timestamp'] = key\n",
    "    orderbks = orderbks.append(y, ignore_index=True)\n",
    "\n",
    "\n",
    "orderbks.to_parquet('orderbook_2mins.parquet')"
   ]
  },
  {
   "cell_type": "code",
   "execution_count": null,
   "metadata": {},
   "outputs": [],
   "source": [
    "start = time.time()\n",
    "print(time.ctime(start))\n",
    "publictrades = dt.async_data(symbol=symbol, exchanges=exchanges, output_format='inplace', timestamp_format='timestamp',\n",
    "                             data_type='publictrades', file_route='files/publictrades', stop_criteria=None,\n",
    "                             elapsed_secs=120, verbose=2)\n",
    "\n",
    "end = time.time()\n",
    "print(time.ctime(end))\n",
    "print(end - start)\n",
    "\n",
    "\n",
    "# print(orderbks)\n",
    "\n",
    "\n",
    "publictrds = pd.DataFrame()\n",
    "\n",
    "for key in publictrades['binance']:\n",
    "    print(key)\n",
    "    print(publictrades['binance'][key])\n",
    "    y = publictrades['binance'][key]\n",
    "    y['key'] = key\n",
    "    publictrds = publictrds.append(y, ignore_index=True)\n",
    "print(publictrds)\n",
    "\n",
    "publictrds = publictrds.transpose()\n",
    "# print(publictrds)\n",
    "publictrds.columns = publictrds.iloc[-1]\n",
    "publictrds = publictrds[:-1]\n",
    "\n",
    "publictrds.to_parquet('public_trade_2mins.parquet')"
   ]
  },
  {
   "cell_type": "code",
   "execution_count": null,
   "metadata": {},
   "outputs": [],
   "source": []
  }
 ],
 "metadata": {
  "interpreter": {
   "hash": "1af17ff996e08bae0069bae897e9e4050128a05f198ca45911f636c15bda0c36"
  },
  "kernelspec": {
   "display_name": "Python 3.8.13 ('vscode')",
   "language": "python",
   "name": "python3"
  },
  "language_info": {
   "codemirror_mode": {
    "name": "ipython",
    "version": 3
   },
   "file_extension": ".py",
   "mimetype": "text/x-python",
   "name": "python",
   "nbconvert_exporter": "python",
   "pygments_lexer": "ipython3",
   "version": "3.8.13"
  },
  "orig_nbformat": 4
 },
 "nbformat": 4,
 "nbformat_minor": 2
}
